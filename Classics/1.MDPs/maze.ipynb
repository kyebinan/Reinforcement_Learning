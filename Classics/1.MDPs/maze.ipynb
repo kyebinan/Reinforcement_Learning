{
 "cells": [
  {
   "cell_type": "markdown",
   "metadata": {},
   "source": [
    "## Part a : MDP formulation\n",
    "\n",
    "We propose the following MDP formulation: \n",
    "\n",
    "#### State space $\\mathcal{S}$\n",
    "The space of state is simply the cartesian product of all the squares of the grid accessible by the player times all the squares of the grid accessible by the minotaur or the whole grid, hence :\n",
    "$$\\mathcal{s} = \\textrm{41 $\\times$ 56 states}$$\n",
    "\n",
    "#### Action Space $\\mathcal{A}$\n",
    "This are all the possible actions in the MDP\n",
    "\n",
    "$$\\mathcal{A} = \\lbrace \\textrm{up, down, right, left, stay}\\rbrace$$\n",
    "\n",
    "#### Transition Probabilities $\\mathbb{P}$\n",
    "\n",
    "- If at position $c$ taking action $a$ does not lead to a wall or an obstacle or being caught by the minotaur but to another position $c'$, then $\\mathbb{P}(c' \\vert c, a) = 1$. \n",
    "- If at  position  $c$ taking  move $a$ leads to a wall or an obstacle, the player remains in his position $c$, then $\\mathbb{P}(c \\vert c, a) = 1$.\n",
    "- For the Minotaur the transition probabilities $\\mathbb{P}(c' \\vert c, a) = 1/4$ for each move or $1/3$, $1/2$ if the minotaur is at one border or two border.\n",
    "\n",
    "Hence the Transition probabilies is $\\mathbb{P}(s' \\vert s, a) = 1/4$ for each move or $1/3$, $1/2$ if the minotaur is at one border or two border.\n",
    "\n",
    "#### Rewards $\\mathcal{R}$\n",
    "The objective of the player is to find the exit of the maze while avoiding the obstacles.    \n",
    "   - If at state $s$, taking action $a$, leads to a wall or an obstacle then $r(s,a) = -20$\n",
    "   - If at state $s$, taking action $a$, leads to being caught then the reward $r(s,a) = -75$\n",
    "   - If at state $s$, taking action $a$, leads to some other position in the maze that is not the exit nor a wall nor an obstacle, then $r(s, a) = -5$. \n",
    "   - If at state $s$, taking action $a$, leads to the exit then $r(s ,a) = 10$.\n",
    "\n",
    "#### Discount Factor $\\mathcal{\\Lambda}$\n",
    "The discount factor would be  $\\lambda^{(t-1)}$"
   ]
  },
  {
   "cell_type": "code",
   "execution_count": 1,
   "metadata": {},
   "outputs": [],
   "source": [
    "import numpy as np\n",
    "import utils\n",
    "import main \n"
   ]
  },
  {
   "cell_type": "code",
   "execution_count": 2,
   "metadata": {},
   "outputs": [
    {
     "data": {
      "image/png": "[encoded data removed]",
      "text/plain": [
       "<Figure size 576x504 with 1 Axes>"
      ]
     },
     "metadata": {},
     "output_type": "display_data"
    }
   ],
   "source": [
    "# with the convention \n",
    "# 0 = empty cell\n",
    "# 1 = obstacle\n",
    "# 2 = exit of the Maze\n",
    "\n",
    "maze = np.array ([\n",
    "    [0, 0, 1, 0, 0, 0, 0, 0],\n",
    "    [0, 0, 1, 0, 0, 1, 0, 0],\n",
    "    [0, 0, 1, 0, 0, 1, 0, 1],\n",
    "    [0, 0, 0, 0, 0, 1, 0, 0],\n",
    "    [0, 0 ,0, 0, 0, 1, 0, 0],\n",
    "    [0, 1, 0, 1, 1, 1, 1, 0],\n",
    "    [0, 0, 0, 0, 1, 2, 0, 0]\n",
    "])\n",
    "\n",
    "utils.draw_maze(maze)"
   ]
  },
  {
   "cell_type": "markdown",
   "metadata": {},
   "source": [
    "# Dynamic Programming"
   ]
  },
  {
   "cell_type": "code",
   "execution_count": 3,
   "metadata": {},
   "outputs": [],
   "source": [
    "env = main.SimpleMaze(maze)"
   ]
  },
  {
   "cell_type": "code",
   "execution_count": 4,
   "metadata": {},
   "outputs": [
    {
     "name": "stdout",
     "output_type": "stream",
     "text": [
      "True\n"
     ]
    }
   ],
   "source": [
    "start_agent = (0,0)\n",
    "horizon = 25\n",
    "V, policy = main.Algorithm.dynamic_programming(env, horizon)\n",
    "path, victory, policy = env.simulateDynProg(start_agent, V, policy)\n",
    "print(victory)"
   ]
  },
  {
   "cell_type": "code",
   "execution_count": 5,
   "metadata": {},
   "outputs": [
    {
     "data": {
      "image/png": "[encoded data removed]",
      "text/plain": [
       "<Figure size 576x504 with 1 Axes>"
      ]
     },
     "metadata": {},
     "output_type": "display_data"
    }
   ],
   "source": [
    "utils.animate_solution(env, path, policy)"
   ]
  },
  {
   "cell_type": "code",
   "execution_count": null,
   "metadata": {},
   "outputs": [],
   "source": []
  },
  {
   "cell_type": "markdown",
   "metadata": {},
   "source": [
    "## Part a : MDP formulation\n",
    "\n",
    "We propose the following MDP formulation: \n",
    "\n",
    "#### State space $\\mathcal{S}$\n",
    "The space of state is simply the cartesian product of all the squares of the grid accessible by the player times all the squares of the grid accessible by the minotaur or the whole grid, hence :\n",
    "$$\\mathcal{s} = \\textrm{41 $\\times$ 56 states}$$\n",
    "\n",
    "#### Action Space $\\mathcal{A}$\n",
    "This are all the possible actions in the MDP\n",
    "\n",
    "$$\\mathcal{A} = \\lbrace \\textrm{up, down, right, left, stay}\\rbrace$$\n",
    "\n",
    "#### Transition Probabilities $\\mathbb{P}$\n",
    "\n",
    "- If at position $c$ taking action $a$ does not lead to a wall or an obstacle or being caught by the minotaur but to another position $c'$, then $\\mathbb{P}(c' \\vert c, a) = 1$. \n",
    "- If at  position  $c$ taking  move $a$ leads to a wall or an obstacle, the player remains in his position $c$, then $\\mathbb{P}(c \\vert c, a) = 1$.\n",
    "- For the Minotaur the transition probabilities $\\mathbb{P}(c' \\vert c, a) = 1/4$ for each move or $1/3$, $1/2$ if the minotaur is at one border or two border.\n",
    "\n",
    "Hence the Transition probabilies is $\\mathbb{P}(s' \\vert s, a) = 1/4$ for each move or $1/3$, $1/2$ if the minotaur is at one border or two border.\n",
    "\n",
    "#### Rewards $\\mathcal{R}$\n",
    "The objective of the player is to find the exit of the maze while avoiding the obstacles.    \n",
    "   - If at state $s$, taking action $a$, leads to a wall or an obstacle then $r(s,a) = -20$\n",
    "   - If at state $s$, taking action $a$, leads to being caught then the reward $r(s,a) = -75$\n",
    "   - If at state $s$, taking action $a$, leads to some other position in the maze that is not the exit nor a wall nor an obstacle, then $r(s, a) = -5$. \n",
    "   - If at state $s$, taking action $a$, leads to the exit then $r(s ,a) = 10$.\n",
    "\n",
    "#### Discount Factor $\\mathcal{\\Lambda}$\n",
    "The discount factor would be  $\\lambda^{(t-1)}$"
   ]
  },
  {
   "cell_type": "markdown",
   "metadata": {},
   "source": [
    "#  Value Iteration "
   ]
  },
  {
   "cell_type": "code",
   "execution_count": 6,
   "metadata": {},
   "outputs": [
    {
     "ename": "TypeError",
     "evalue": "Maze() takes no arguments",
     "output_type": "error",
     "traceback": [
      "\u001b[0;31m---------------------------------------------------------------------------\u001b[0m",
      "\u001b[0;31mTypeError\u001b[0m                                 Traceback (most recent call last)",
      "Input \u001b[0;32mIn [6]\u001b[0m, in \u001b[0;36m<cell line: 2>\u001b[0;34m()\u001b[0m\n\u001b[1;32m      1\u001b[0m \u001b[38;5;66;03m# Create an environment maze\u001b[39;00m\n\u001b[0;32m----> 2\u001b[0m env \u001b[38;5;241m=\u001b[39m \u001b[43mmain\u001b[49m\u001b[38;5;241;43m.\u001b[39;49m\u001b[43mMaze\u001b[49m\u001b[43m(\u001b[49m\u001b[43mmaze\u001b[49m\u001b[43m)\u001b[49m\n",
      "\u001b[0;31mTypeError\u001b[0m: Maze() takes no arguments"
     ]
    }
   ],
   "source": [
    "# Create an environment maze\n",
    "env = main.Maze(maze)\n",
    "# env.show()"
   ]
  },
  {
   "cell_type": "code",
   "execution_count": null,
   "metadata": {},
   "outputs": [],
   "source": [
    "start_agent     = (6,3)\n",
    "start_minotaur  = (2,3)\n",
    "gamma = 0.9\n",
    "epsilon = 0.3\n",
    "\n",
    "V, policy = main.value_iteration(env, gamma, epsilon, env.rewards, env.transition_probabilities, env.n_states)\n",
    "\n",
    "path, victory, policy = env.simulateValIter(start_agent, start_minotaur, V, policy)\n",
    "print(victory)"
   ]
  },
  {
   "cell_type": "code",
   "execution_count": null,
   "metadata": {},
   "outputs": [],
   "source": []
  },
  {
   "cell_type": "markdown",
   "metadata": {},
   "source": [
    "#  Policy Iteration"
   ]
  },
  {
   "cell_type": "code",
   "execution_count": null,
   "metadata": {},
   "outputs": [],
   "source": []
  },
  {
   "cell_type": "code",
   "execution_count": null,
   "metadata": {},
   "outputs": [],
   "source": []
  },
  {
   "cell_type": "code",
   "execution_count": null,
   "metadata": {},
   "outputs": [],
   "source": []
  },
  {
   "cell_type": "code",
   "execution_count": null,
   "metadata": {},
   "outputs": [],
   "source": []
  },
  {
   "cell_type": "markdown",
   "metadata": {},
   "source": []
  }
 ],
 "metadata": {
  "kernelspec": {
   "display_name": "base",
   "language": "python",
   "name": "python3"
  },
  "language_info": {
   "codemirror_mode": {
    "name": "ipython",
    "version": 3
   },
   "file_extension": ".py",
   "mimetype": "text/x-python",
   "name": "python",
   "nbconvert_exporter": "python",
   "pygments_lexer": "ipython3",
   "version": "3.9.12"
  }
 },
 "nbformat": 4,
 "nbformat_minor": 2
}
