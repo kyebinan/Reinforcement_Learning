{
 "cells": [
  {
   "cell_type": "markdown",
   "metadata": {},
   "source": [
    "## Part a : MDP formulation\n",
    "\n",
    "We propose the following MDP formulation: \n",
    "\n",
    "#### State space $\\mathcal{S}$\n",
    "The space of state is simply the cartesian product of all the squares of the grid accessible by the player times all the squares of the grid accessible by the minotaur or the whole grid, hence :\n",
    "$$\\mathcal{s} = \\textrm{41 $\\times$ 56 states}$$\n",
    "\n",
    "#### Action Space $\\mathcal{A}$\n",
    "This are all the possible actions in the MDP\n",
    "\n",
    "$$\\mathcal{A} = \\lbrace \\textrm{up, down, right, left, stay}\\rbrace$$\n",
    "\n",
    "#### Transition Probabilities $\\mathbb{P}$\n",
    "\n",
    "- If at position $c$ taking action $a$ does not lead to a wall or an obstacle or being caught by the minotaur but to another position $c'$, then $\\mathbb{P}(c' \\vert c, a) = 1$. \n",
    "- If at  position  $c$ taking  move $a$ leads to a wall or an obstacle, the player remains in his position $c$, then $\\mathbb{P}(c \\vert c, a) = 1$.\n",
    "- For the Minotaur the transition probabilities $\\mathbb{P}(c' \\vert c, a) = 1/4$ for each move or $1/3$, $1/2$ if the minotaur is at one border or two border.\n",
    "\n",
    "Hence the Transition probabilies is $\\mathbb{P}(s' \\vert s, a) = 1/4$ for each move or $1/3$, $1/2$ if the minotaur is at one border or two border.\n",
    "\n",
    "#### Rewards $\\mathcal{R}$\n",
    "The objective of the player is to find the exit of the maze while avoiding the obstacles.    \n",
    "   - If at state $s$, taking action $a$, leads to a wall or an obstacle then $r(s,a) = -20$\n",
    "   - If at state $s$, taking action $a$, leads to being caught then the reward $r(s,a) = -75$\n",
    "   - If at state $s$, taking action $a$, leads to some other position in the maze that is not the exit nor a wall nor an obstacle, then $r(s, a) = -5$. \n",
    "   - If at state $s$, taking action $a$, leads to the exit then $r(s ,a) = 10$.\n",
    "\n",
    "#### Discount Factor $\\mathcal{\\Lambda}$\n",
    "The discount factor would be  $\\lambda^{(t-1)}$"
   ]
  },
  {
   "cell_type": "code",
   "execution_count": 1,
   "metadata": {},
   "outputs": [],
   "source": [
    "import numpy as np\n",
    "import utils\n",
    "import main \n"
   ]
  },
  {
   "cell_type": "code",
   "execution_count": 2,
   "metadata": {},
   "outputs": [
    {
     "data": {
      "image/png": "[encoded data removed]",
      "text/plain": [
       "<Figure size 576x504 with 1 Axes>"
      ]
     },
     "metadata": {},
     "output_type": "display_data"
    }
   ],
   "source": [
    "# with the convention \n",
    "# 0 = empty cell\n",
    "# 1 = obstacle\n",
    "# 2 = exit of the Maze\n",
    "\n",
    "maze = np.array ([\n",
    "    [0, 0, 1, 0, 0, 0, 0, 0],\n",
    "    [0, 0, 1, 0, 0, 1, 0, 0],\n",
    "    [0, 0, 1, 0, 0, 1, 0, 1],\n",
    "    [0, 0, 0, 0, 0, 1, 0, 0],\n",
    "    [0, 0 ,0, 0, 0, 1, 0, 0],\n",
    "    [0, 1, 0, 1, 1, 1, 1, 0],\n",
    "    [0, 0, 0, 0, 1, 2, 0, 0]\n",
    "])\n",
    "\n",
    "utils.draw_maze(maze)"
   ]
  },
  {
   "cell_type": "markdown",
   "metadata": {},
   "source": [
    "# Dynamic Programming"
   ]
  },
  {
   "cell_type": "code",
   "execution_count": 4,
   "metadata": {},
   "outputs": [
    {
     "name": "stdout",
     "output_type": "stream",
     "text": [
      "{0: (0, 0), 1: (0, 1), 2: (0, 3), 3: (0, 4), 4: (0, 5), 5: (0, 6), 6: (0, 7), 7: (1, 0), 8: (1, 1), 9: (1, 3), 10: (1, 4), 11: (1, 6), 12: (1, 7), 13: (2, 0), 14: (2, 1), 15: (2, 3), 16: (2, 4), 17: (2, 6), 18: (3, 0), 19: (3, 1), 20: (3, 2), 21: (3, 3), 22: (3, 4), 23: (3, 6), 24: (3, 7), 25: (4, 0), 26: (4, 1), 27: (4, 2), 28: (4, 3), 29: (4, 4), 30: (4, 6), 31: (4, 7), 32: (5, 0), 33: (5, 2), 34: (5, 7), 35: (6, 0), 36: (6, 1), 37: (6, 2), 38: (6, 3), 39: (6, 5), 40: (6, 6), 41: (6, 7)}\n",
      "{(0, 0): 0, (0, 1): 1, (0, 3): 2, (0, 4): 3, (0, 5): 4, (0, 6): 5, (0, 7): 6, (1, 0): 7, (1, 1): 8, (1, 3): 9, (1, 4): 10, (1, 6): 11, (1, 7): 12, (2, 0): 13, (2, 1): 14, (2, 3): 15, (2, 4): 16, (2, 6): 17, (3, 0): 18, (3, 1): 19, (3, 2): 20, (3, 3): 21, (3, 4): 22, (3, 6): 23, (3, 7): 24, (4, 0): 25, (4, 1): 26, (4, 2): 27, (4, 3): 28, (4, 4): 29, (4, 6): 30, (4, 7): 31, (5, 0): 32, (5, 2): 33, (5, 7): 34, (6, 0): 35, (6, 1): 36, (6, 2): 37, (6, 3): 38, (6, 5): 39, (6, 6): 40, (6, 7): 41}\n"
     ]
    },
    {
     "ename": "TypeError",
     "evalue": "cannot unpack non-iterable int object",
     "output_type": "error",
     "traceback": [
      "\u001b[0;31m---------------------------------------------------------------------------\u001b[0m",
      "\u001b[0;31mTypeError\u001b[0m                                 Traceback (most recent call last)",
      "Input \u001b[0;32mIn [4]\u001b[0m, in \u001b[0;36m<cell line: 1>\u001b[0;34m()\u001b[0m\n\u001b[0;32m----> 1\u001b[0m env \u001b[38;5;241m=\u001b[39m \u001b[43mmain\u001b[49m\u001b[38;5;241;43m.\u001b[39;49m\u001b[43mSimpleMaze\u001b[49m\u001b[43m(\u001b[49m\u001b[43mmaze\u001b[49m\u001b[43m)\u001b[49m\n",
      "File \u001b[0;32m~/Documents/Cantique_des_Cantiques/Project/mario/Super-Mario-RL/Classics/1.MDPs/main.py:177\u001b[0m, in \u001b[0;36mSimpleMaze.__init__\u001b[0;34m(self, maze, weights, random_rewards)\u001b[0m\n\u001b[1;32m    175\u001b[0m \u001b[38;5;28mself\u001b[39m\u001b[38;5;241m.\u001b[39mn_states                 \u001b[38;5;241m=\u001b[39m \u001b[38;5;28mlen\u001b[39m(\u001b[38;5;28mself\u001b[39m\u001b[38;5;241m.\u001b[39mnum_states_to_position)\n\u001b[1;32m    176\u001b[0m \u001b[38;5;28mself\u001b[39m\u001b[38;5;241m.\u001b[39mtransition_probabilities \u001b[38;5;241m=\u001b[39m \u001b[38;5;28mself\u001b[39m\u001b[38;5;241m.\u001b[39mcompute_transitions()\n\u001b[0;32m--> 177\u001b[0m \u001b[38;5;28mself\u001b[39m\u001b[38;5;241m.\u001b[39mrewards                  \u001b[38;5;241m=\u001b[39m \u001b[38;5;28;43mself\u001b[39;49m\u001b[38;5;241;43m.\u001b[39;49m\u001b[43mcompute_rewards\u001b[49m\u001b[43m(\u001b[49m\u001b[43m)\u001b[49m\n",
      "File \u001b[0;32m~/Documents/Cantique_des_Cantiques/Project/mario/Super-Mario-RL/Classics/1.MDPs/main.py:248\u001b[0m, in \u001b[0;36mSimpleMaze.compute_rewards\u001b[0;34m(self)\u001b[0m\n\u001b[1;32m    246\u001b[0m \u001b[38;5;28;01mfor\u001b[39;00m a \u001b[38;5;129;01min\u001b[39;00m \u001b[38;5;28mrange\u001b[39m(\u001b[38;5;28mself\u001b[39m\u001b[38;5;241m.\u001b[39mn_actions):\n\u001b[1;32m    247\u001b[0m     init_pos \u001b[38;5;241m=\u001b[39m \u001b[38;5;28mself\u001b[39m\u001b[38;5;241m.\u001b[39mnum_states_to_position[s][\u001b[38;5;241m0\u001b[39m]\n\u001b[0;32m--> 248\u001b[0m     next_pos \u001b[38;5;241m=\u001b[39m \u001b[38;5;28;43mself\u001b[39;49m\u001b[38;5;241;43m.\u001b[39;49m\u001b[43magent_move\u001b[49m\u001b[43m(\u001b[49m\u001b[43minit_pos\u001b[49m\u001b[43m,\u001b[49m\u001b[43m \u001b[49m\u001b[43ma\u001b[49m\u001b[43m)\u001b[49m\n\u001b[1;32m    249\u001b[0m     pos \u001b[38;5;241m=\u001b[39m next_pos\n\u001b[1;32m    250\u001b[0m     next_s \u001b[38;5;241m=\u001b[39m \u001b[38;5;28mself\u001b[39m\u001b[38;5;241m.\u001b[39mposition_states_to_num[pos]\n",
      "File \u001b[0;32m~/Documents/Cantique_des_Cantiques/Project/mario/Super-Mario-RL/Classics/1.MDPs/main.py:228\u001b[0m, in \u001b[0;36mSimpleMaze.agent_move\u001b[0;34m(self, init_pos, action)\u001b[0m\n\u001b[1;32m    222\u001b[0m \u001b[38;5;124;03m\"\"\" Makes a step in the maze, given a current position and an action.\u001b[39;00m\n\u001b[1;32m    223\u001b[0m \u001b[38;5;124;03m    If the action STAY or an inadmissible action is used, the agent stays in place.\u001b[39;00m\n\u001b[1;32m    224\u001b[0m \n\u001b[1;32m    225\u001b[0m \u001b[38;5;124;03m    :return tuple next_cell: Position (x,y) on the maze that agent transitions to.\u001b[39;00m\n\u001b[1;32m    226\u001b[0m \u001b[38;5;124;03m\"\"\"\u001b[39;00m\n\u001b[1;32m    227\u001b[0m \u001b[38;5;66;03m# Compute the future position given current (state, action)\u001b[39;00m\n\u001b[0;32m--> 228\u001b[0m y,x \u001b[38;5;241m=\u001b[39m init_pos\n\u001b[1;32m    229\u001b[0m row \u001b[38;5;241m=\u001b[39m y \u001b[38;5;241m+\u001b[39m \u001b[38;5;28mself\u001b[39m\u001b[38;5;241m.\u001b[39mactions[action][\u001b[38;5;241m0\u001b[39m];\n\u001b[1;32m    230\u001b[0m col \u001b[38;5;241m=\u001b[39m x \u001b[38;5;241m+\u001b[39m \u001b[38;5;28mself\u001b[39m\u001b[38;5;241m.\u001b[39mactions[action][\u001b[38;5;241m1\u001b[39m];\n",
      "\u001b[0;31mTypeError\u001b[0m: cannot unpack non-iterable int object"
     ]
    }
   ],
   "source": [
    "env = main.SimpleMaze(maze)"
   ]
  },
  {
   "cell_type": "code",
   "execution_count": null,
   "metadata": {},
   "outputs": [],
   "source": []
  },
  {
   "cell_type": "code",
   "execution_count": null,
   "metadata": {},
   "outputs": [],
   "source": [
    "start_agent     = (0,0)\n",
    "start_minotaur  = (2,4)\n",
    "horizon = 20\n",
    "\n",
    "V, policy = main.dynamic_programming(env, horizon, env.rewards, env.transition_probabilities)\n",
    "\n",
    "path, victory, policy = env.simulateDynProg(start_agent, start_minotaur, V, policy)\n",
    "print(victory)"
   ]
  },
  {
   "cell_type": "code",
   "execution_count": null,
   "metadata": {},
   "outputs": [],
   "source": [
    "main.animate_solution(env.maze, path, policy, env, 'DynProg')"
   ]
  },
  {
   "cell_type": "markdown",
   "metadata": {},
   "source": [
    "#  Value Iteration "
   ]
  },
  {
   "cell_type": "code",
   "execution_count": null,
   "metadata": {},
   "outputs": [],
   "source": [
    "# Create an environment maze\n",
    "env = main.Maze(maze)\n",
    "# env.show()"
   ]
  },
  {
   "cell_type": "code",
   "execution_count": null,
   "metadata": {},
   "outputs": [],
   "source": [
    "start_agent     = (6,3)\n",
    "start_minotaur  = (2,3)\n",
    "gamma = 0.9\n",
    "epsilon = 0.3\n",
    "\n",
    "V, policy = main.value_iteration(env, gamma, epsilon, env.rewards, env.transition_probabilities, env.n_states)\n",
    "\n",
    "path, victory, policy = env.simulateValIter(start_agent, start_minotaur, V, policy)\n",
    "print(victory)"
   ]
  },
  {
   "cell_type": "code",
   "execution_count": null,
   "metadata": {},
   "outputs": [],
   "source": []
  },
  {
   "cell_type": "markdown",
   "metadata": {},
   "source": [
    "#  Policy Iteration"
   ]
  },
  {
   "cell_type": "code",
   "execution_count": null,
   "metadata": {},
   "outputs": [],
   "source": []
  },
  {
   "cell_type": "code",
   "execution_count": null,
   "metadata": {},
   "outputs": [],
   "source": []
  },
  {
   "cell_type": "code",
   "execution_count": null,
   "metadata": {},
   "outputs": [],
   "source": []
  },
  {
   "cell_type": "code",
   "execution_count": null,
   "metadata": {},
   "outputs": [],
   "source": []
  },
  {
   "cell_type": "markdown",
   "metadata": {},
   "source": []
  }
 ],
 "metadata": {
  "kernelspec": {
   "display_name": "base",
   "language": "python",
   "name": "python3"
  },
  "language_info": {
   "codemirror_mode": {
    "name": "ipython",
    "version": 3
   },
   "file_extension": ".py",
   "mimetype": "text/x-python",
   "name": "python",
   "nbconvert_exporter": "python",
   "pygments_lexer": "ipython3",
   "version": "3.9.12"
  }
 },
 "nbformat": 4,
 "nbformat_minor": 2
}
